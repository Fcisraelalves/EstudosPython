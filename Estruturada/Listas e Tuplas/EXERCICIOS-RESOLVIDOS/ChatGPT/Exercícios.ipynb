{
 "cells": [
  {
   "cell_type": "markdown",
   "id": "cddcfad4",
   "metadata": {},
   "source": [
    "# Exercícios propostos\n",
    "\n",
    "\n",
    "| Número | Nível | Descrição do Exercício |\n",
    "|---|---|---|\n",
    "| 1 | Fácil | Crie uma lista com 5 elementos de diferentes tipos. Modifique o terceiro elemento para outro valor e exiba a lista. |\n",
    "| 2 | Fácil | Crie uma tupla com 4 números. Acesse o último número utilizando um índice negativo. |\n",
    "| 3 | Fácil | Adicione o número 10 ao final de uma lista usando o método adequado. |\n",
    "| 4 | Fácil | Conte quantas vezes o número 3 aparece em uma tupla (3, 1, 3, 5, 3, 7). |\n",
    "| 5 | Médio | Dada a lista [5, 3, 8, 6, 7], ordene-a em ordem crescente e depois em ordem decrescente. |\n",
    "| 6 | Médio | Escreva um programa que converta uma lista [1, 2, 3, 4] em uma tupla e exiba os dois formatos. |\n",
    "| 7 | Médio | Crie uma lista de listas representando uma matriz 2x2 e acesse o elemento na primeira linha e segunda coluna. |\n",
    "| 8 | Médio | Faça um programa que receba uma tupla com números e devolva a soma dos elementos. |\n",
    "| 9 | Difícil | Escreva um programa que verifique se uma tupla é um palíndromo (tem a mesma sequência ao ser invertida). |\n",
    "| 10 | Difícil | Crie uma lista que armazene as palavras de uma frase dada pelo usuário e exiba a palavra mais longa. |\n",
    "| 11 | Difícil | Gere uma lista com 10 números aleatórios entre 1 e 50, remova os números duplicados e exiba a nova lista. |\n",
    "| 12 | Difícil | Crie uma lista com 5 tuplas. Cada tupla deve conter o nome de uma pessoa e sua idade. Ordene a lista por idade. |\n",
    "| 13 | Difícil | Crie uma tupla representando uma matriz 3x3 e calcule a soma dos elementos da diagonal principal. |\n",
    "| 14 | Difícil | Dada uma lista de números [10, 20, 30, 40, 50], crie uma nova lista que contenha apenas os números maiores que 25. |\n",
    "| 15 | Difícil | Faça um programa que crie uma lista a partir de outra, mas com os elementos duplicados removidos, mantendo a ordem original. |"
   ]
  },
  {
   "cell_type": "code",
   "execution_count": null,
   "id": "d763cdcf",
   "metadata": {},
   "outputs": [],
   "source": [
    "#Exercício #1\n",
    "\n",
    "lista = [1,2,3,4,\"banana\", 4.0]\n",
    "\n",
    "lista[2] = 0\n",
    "\n",
    "print(lista)"
   ]
  },
  {
   "cell_type": "code",
   "execution_count": null,
   "id": "42cddc28",
   "metadata": {},
   "outputs": [],
   "source": [
    "#Exercício #2\n",
    "\n",
    "\n",
    "myTuple = (1,2,3,4, \"cachorro\")\n",
    "\n",
    "print(f\"O último elemento da tupla é {myTuple[-1]}\")"
   ]
  },
  {
   "cell_type": "code",
   "execution_count": null,
   "id": "444c25d0",
   "metadata": {},
   "outputs": [],
   "source": [
    "#Exercício #3\n",
    "\n",
    "\n",
    "myList = [4,5,6,7]\n",
    "\n",
    "myList.append(10)\n",
    "\n",
    "print(myList)"
   ]
  },
  {
   "cell_type": "code",
   "execution_count": null,
   "id": "499be2e1",
   "metadata": {},
   "outputs": [],
   "source": [
    "#Exercício #4\n",
    "\n",
    "\n",
    "myTuple = (3, 1, 3, 5, 3, 7)\n",
    "\n",
    "qtd3 = myTuple.count(3)\n",
    "\n",
    "print(f\"A quantidade de vezes que o elemento 3 aparece na tupla é {qtd3}\")"
   ]
  },
  {
   "cell_type": "code",
   "execution_count": null,
   "id": "f763058e",
   "metadata": {},
   "outputs": [],
   "source": [
    "#Exercício #5\n",
    "\n",
    "\n",
    "myList = [5, 3, 8, 6, 7]\n",
    "print(f\"Minha lista original: {myList}\")\n",
    "\n",
    "myList.sort()\n",
    "print(f\"Minha lista após a ordenação crescente: {myList}\")\n",
    "\n",
    "myList.sort(reverse=True)\n",
    "print(f\"Minha lista após a ordenação decrescente: {myList}\")\n"
   ]
  },
  {
   "cell_type": "code",
   "execution_count": 1,
   "id": "08a9c7a2",
   "metadata": {},
   "outputs": [
    {
     "name": "stdout",
     "output_type": "stream",
     "text": [
      "Em formato de lista: [1, 2, 3, 4]\n",
      "Em formato de tupla: (1, 2, 3, 4)\n"
     ]
    }
   ],
   "source": [
    "#Exercício #6\n",
    "\n",
    "\n",
    "myList = [1,2,3,4]\n",
    "myTuple = tuple(myList)\n",
    "\n",
    "print(f\"Em formato de lista: {myList}\")\n",
    "print(f\"Em formato de tupla: {myTuple}\")"
   ]
  },
  {
   "cell_type": "code",
   "execution_count": null,
   "id": "ea54bff7",
   "metadata": {},
   "outputs": [],
   "source": [
    "#Exercício #7\n",
    "\n",
    "\n",
    "matriz = [[1,2],\n",
    "          [3,4]]\n",
    "\n",
    "print(f\"Elemento da primeira linha e segunda coluna: {matriz[0][1]}\")"
   ]
  },
  {
   "cell_type": "code",
   "execution_count": null,
   "id": "356df1ad",
   "metadata": {},
   "outputs": [],
   "source": [
    "#Exercício #8\n",
    "\n",
    "\n",
    "tupla = (1,2,3,4,5,6)\n",
    "\n",
    "soma = sum(tupla)\n",
    "\n",
    "print(f\"Minha tupla: {tupla}\")\n",
    "print(f\"A soma dos números da tupla: {soma}\")"
   ]
  },
  {
   "cell_type": "code",
   "execution_count": null,
   "id": "cf5b0e48",
   "metadata": {},
   "outputs": [],
   "source": [
    "#Exercício #9\n",
    "\n",
    "tupla = (1,2,3,4,5,6,7,8,7,6,5,4,3,2,1)\n",
    "\n",
    "if tupla == tupla[::-1]:\n",
    "    print(f\"Sim, a tupla é um palíndromo.\")\n",
    "else:\n",
    "    print(f\"Não, a tupla não é um palíndromo.\")"
   ]
  },
  {
   "cell_type": "code",
   "execution_count": null,
   "id": "3434878a",
   "metadata": {},
   "outputs": [],
   "source": [
    "#Exercício #10\n",
    "\n",
    "frase = str(input(\"insira uma frase: \"))\n",
    "\n",
    "if not frase == \"\":\n",
    "\n",
    "    palavras = frase.split()\n",
    "\n",
    "    palavras.sort(key=len)\n",
    "\n",
    "    print(f\"A maior palavra da frase é {palavras[-1]}\")\n",
    "\n",
    "else:\n",
    "    print(f\"Erro: digite uma frase válida.\")"
   ]
  },
  {
   "cell_type": "code",
   "execution_count": null,
   "id": "596bca95",
   "metadata": {},
   "outputs": [],
   "source": [
    "#Exercício #11\n",
    "\n",
    "import random as rd\n",
    "\n",
    "lista = [rd.randint(1,10) for _ in range(10)]\n",
    "\n",
    "print(f\"A minha lista antes da remoção é {lista}\")\n",
    "\n",
    "\n",
    "for elemento in lista.copy():\n",
    "    if lista.count(elemento) != 1:\n",
    "        lista.remove(elemento)\n",
    "\n",
    "print(f\"A minha lista após as remoções é {lista}.\")"
   ]
  },
  {
   "cell_type": "code",
   "execution_count": null,
   "id": "45516c41",
   "metadata": {},
   "outputs": [],
   "source": [
    "#Exercício #12 \n",
    "\n",
    "lista = []\n",
    "\n",
    "for i in range(5):\n",
    "    nome = str(input(f\"insira o {i+1}º nome: \"))\n",
    "    idade = int(input(f\"insira a idade de {nome}: \"))\n",
    "    lista.append((nome,idade))\n",
    "\n",
    "print(f\">>> Lista de tuplas não ordenada: \")\n",
    "for tupla in lista:\n",
    "    print(tupla)\n",
    "\n",
    "trocou = True\n",
    "while trocou:\n",
    "    trocou = False\n",
    "    tamanho = len(lista)\n",
    "    for i in range(tamanho - 1):\n",
    "        if lista[i][1] > lista[i+1][1]:\n",
    "            aux = lista[i+1]\n",
    "            lista[i+1] = lista[i]\n",
    "            lista[i] = aux\n",
    "            trocou = True\n",
    "\n",
    "print(f\">>> Lista de tuplas ordenada: \")\n",
    "for tupla in lista:\n",
    "    print(tupla)"
   ]
  },
  {
   "cell_type": "code",
   "execution_count": null,
   "id": "82f19340",
   "metadata": {},
   "outputs": [],
   "source": [
    "#Exercício #13\n",
    "\n",
    "matriz = ((1,2,3),\n",
    "         (4,5,6),\n",
    "         (7,8,9))\n",
    "\n",
    "soma = 0\n",
    "\n",
    "indice = 0\n",
    "for linha in matriz:\n",
    "    soma += linha[indice]\n",
    "    indice += 1\n",
    "\n",
    "for linha in matriz:\n",
    "    for elemento in linha:\n",
    "        print(f\"{elemento} \", end=\"\")\n",
    "    print()\n",
    "\n",
    "print(f\"A soma dos elementos da diagonal principal da matriz é {soma}\")"
   ]
  },
  {
   "cell_type": "code",
   "execution_count": null,
   "id": "18790cb9",
   "metadata": {},
   "outputs": [],
   "source": [
    "#Exercício #14\n",
    "\n",
    "lista = [10, 20, 30, 40, 50]\n",
    "\n",
    "novaLista = [elemento for elemento in lista if elemento > 25]\n",
    "\n",
    "print(f\"lista original: {lista}\")\n",
    "print(f\"lista filtrada: {novaLista}\")"
   ]
  },
  {
   "cell_type": "code",
   "execution_count": null,
   "id": "878b0284",
   "metadata": {},
   "outputs": [],
   "source": [
    "#Exercício #15\n",
    "\n",
    "lista = [1,1,1,2,2,2,3,3,3,4,5,6,6,6,7,7]\n",
    "listaUnica = []\n",
    "for numero in lista:\n",
    "    if not numero in listaUnica:\n",
    "        listaUnica.append(numero)\n",
    "\n",
    "print(f\"Lista original: {lista}\")\n",
    "print(f\"Lista sem duplicatas: {listaUnica}\")"
   ]
  }
 ],
 "metadata": {
  "kernelspec": {
   "display_name": "Python 3 (ipykernel)",
   "language": "python",
   "name": "python3"
  },
  "language_info": {
   "codemirror_mode": {
    "name": "ipython",
    "version": 3
   },
   "file_extension": ".py",
   "mimetype": "text/x-python",
   "name": "python",
   "nbconvert_exporter": "python",
   "pygments_lexer": "ipython3",
   "version": "3.10.9"
  }
 },
 "nbformat": 4,
 "nbformat_minor": 5
}
